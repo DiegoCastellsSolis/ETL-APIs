{
 "cells": [
  {
   "cell_type": "code",
   "execution_count": 6,
   "metadata": {},
   "outputs": [],
   "source": [
    "import requests\n",
    "import pandas as pd\n",
    "import json"
   ]
  },
  {
   "cell_type": "code",
   "execution_count": null,
   "metadata": {},
   "outputs": [],
   "source": [
    "coordenadas = {\n",
    "    \"Yonge-Dundas Square\": {\"lat\": 43.6561, \"lng\": -79.3802},\n",
    "    \"Union Station\": {\"lat\": 43.6455, \"lng\": -79.3807},\n",
    "    \"CN Tower\": {\"lat\": 43.6426, \"lng\": -79.3871},\n",
    "    \"Scarborough Town Centre\": {\"lat\": 43.7744, \"lng\": -79.2318},\n",
    "    \"Kipling Station\": {\"lat\": 43.6379, \"lng\": -79.5356},\n",
    "    \"High Park\": {\"lat\": 43.6465, \"lng\": -79.4637},\n",
    "    \"Toronto Pearson Airport\": {\"lat\": 43.6777, \"lng\": -79.6248},\n",
    "    \"Eglinton West Station\": {\"lat\": 43.6991, \"lng\": -79.4355},\n",
    "    \"Exhibition Place\": {\"lat\": 43.6328, \"lng\": -79.4150},\n",
    "    \"York University\": {\"lat\": 43.7735, \"lng\": -79.5019}\n",
    "}"
   ]
  },
  {
   "cell_type": "code",
   "execution_count": null,
   "metadata": {},
   "outputs": [],
   "source": [
    "def get_station(url):\n",
    "# URL de la API de paradas cercanas\n",
    "url = \"https://myttc.ca/near/43.6557074,-79.3850234.json\"\n",
    "\n",
    "# Hacer la solicitud GET\n",
    "response = requests.get(url)\n",
    "\n",
    "# Verificar si la solicitud fue exitosa\n",
    "if response.status_code == 200:\n",
    "    # Extraer los datos en formato JSON\n",
    "    data = response.json()\n",
    "\n",
    "    # Imprimir los datos\n",
    "    print(data)\n",
    "else:\n",
    "    print(f\"Error en la solicitud: {response.status_code}\")"
   ]
  },
  {
   "cell_type": "code",
   "execution_count": 10,
   "metadata": {},
   "outputs": [
    {
     "name": "stdout",
     "output_type": "stream",
     "text": [
      "Yonge-Dundas Square: Latitud = 43.6561, Longitud = -79.3802\n",
      "Union Station: Latitud = 43.6455, Longitud = -79.3807\n",
      "CN Tower: Latitud = 43.6426, Longitud = -79.3871\n",
      "Scarborough Town Centre: Latitud = 43.7744, Longitud = -79.2318\n",
      "Kipling Station: Latitud = 43.6379, Longitud = -79.5356\n",
      "High Park: Latitud = 43.6465, Longitud = -79.4637\n",
      "Toronto Pearson Airport: Latitud = 43.6777, Longitud = -79.6248\n",
      "Eglinton West Station: Latitud = 43.6991, Longitud = -79.4355\n",
      "Exhibition Place: Latitud = 43.6328, Longitud = -79.415\n",
      "York University: Latitud = 43.7735, Longitud = -79.5019\n"
     ]
    }
   ],
   "source": [
    "# Imprimir el diccionario\n",
    "for lugar, coords in coordenadas.items():\n",
    "    url= f\"https://myttc.ca/near/{coords['lat']},{coords['lng']}.json\"\n",
    "    print(f\"{lugar}: Latitud = {coords['lat']}, Longitud = {coords['lng']} , station = {get_station(url)}\")\n"
   ]
  },
  {
   "cell_type": "code",
   "execution_count": null,
   "metadata": {},
   "outputs": [],
   "source": []
  },
  {
   "cell_type": "code",
   "execution_count": null,
   "metadata": {},
   "outputs": [],
   "source": []
  },
  {
   "cell_type": "code",
   "execution_count": null,
   "metadata": {},
   "outputs": [],
   "source": []
  },
  {
   "cell_type": "code",
   "execution_count": null,
   "metadata": {},
   "outputs": [],
   "source": []
  },
  {
   "cell_type": "code",
   "execution_count": null,
   "metadata": {},
   "outputs": [],
   "source": []
  },
  {
   "cell_type": "code",
   "execution_count": null,
   "metadata": {},
   "outputs": [],
   "source": []
  },
  {
   "cell_type": "code",
   "execution_count": 7,
   "metadata": {},
   "outputs": [],
   "source": [
    "# URL de la API en formato JSON\n",
    "url = \"https://myttc.ca/finch_station.json\""
   ]
  },
  {
   "cell_type": "code",
   "execution_count": 9,
   "metadata": {},
   "outputs": [
    {
     "name": "stdout",
     "output_type": "stream",
     "text": [
      "{\n",
      "    \"name\": \"Finch Station\",\n",
      "    \"uri\": \"finch_station\",\n",
      "    \"stops\": [\n",
      "        {\n",
      "            \"name\": \"Finch Station Bishop Entrance\",\n",
      "            \"uri\": \"finch_station_bishop_entrance\"\n",
      "        },\n",
      "        {\n",
      "            \"name\": \"Finch Station Bus Bay\",\n",
      "            \"uri\": \"finch_station_bus_bay\"\n",
      "        },\n",
      "        {\n",
      "            \"name\": \"Finch Station Concourse\",\n",
      "            \"uri\": \"finch_station_concourse\"\n",
      "        },\n",
      "        {\n",
      "            \"name\": \"Finch Station Elevator Entrance\",\n",
      "            \"uri\": \"finch_station_elevator_entrance\"\n",
      "        },\n",
      "        {\n",
      "            \"name\": \"Finch Station GO Hallway\",\n",
      "            \"uri\": \"finch_station_go_hallway\"\n",
      "        },\n",
      "        {\n",
      "            \"name\": \"Finch Station Mezzanine\",\n",
      "            \"uri\": \"finch_station_mezzanine\"\n",
      "        },\n",
      "        {\n",
      "            \"name\": \"Finch Station Northeast Entrance\",\n",
      "            \"uri\": \"finch_station_northeast_entrance\"\n",
      "        },\n",
      "        {\n",
      "            \"name\": \"Finch Station Northwest Entrance\",\n",
      "            \"uri\": \"finch_station_northwest_entrance\"\n",
      "        },\n",
      "        {\n",
      "            \"name\": \"Finch Station Passenger Pick Up\",\n",
      "            \"uri\": \"finch_station_passenger_pick_up\"\n",
      "        },\n",
      "        {\n",
      "            \"name\": \"Finch Station Passenger Pick Up Mezzanine\",\n",
      "            \"uri\": \"finch_station_passenger_pick_up_mezzanine\"\n",
      "        },\n",
      "        {\n",
      "            \"name\": \"Finch Station Pemberton Entrance\",\n",
      "            \"uri\": \"finch_station_pemberton_entrance\"\n",
      "        },\n",
      "        {\n",
      "            \"name\": \"Finch Station Subway Platform\",\n",
      "            \"uri\": \"finch_station_subway_platform\"\n",
      "        },\n",
      "        {\n",
      "            \"name\": \"Finch Station Yonge East Entrance\",\n",
      "            \"uri\": \"finch_station_yonge_east_entrance\"\n",
      "        },\n",
      "        {\n",
      "            \"name\": \"Finch Station Yonge West Entrance\",\n",
      "            \"uri\": \"finch_station_yonge_west_entrance\"\n",
      "        }\n",
      "    ],\n",
      "    \"time\": 1729069391\n",
      "}\n"
     ]
    }
   ],
   "source": [
    "# Hacer la solicitud GET\n",
    "response = requests.get(url)\n",
    "\n",
    "# Verificar si la solicitud fue exitosa (código 200)\n",
    "if response.status_code == 200:\n",
    "    # Extraer los datos en formato JSON\n",
    "    data = response.json()\n",
    "    json_formateado = json.dumps(data, indent=4)\n",
    "    # Imprimir los datos\n",
    "    print(json_formateado)\n",
    "else:\n",
    "    print(f\"Error en la solicitud: {response.status_code}\")\n",
    "# Convertir el JSON a una cadena con formato indentado\n"
   ]
  },
  {
   "cell_type": "code",
   "execution_count": null,
   "metadata": {},
   "outputs": [],
   "source": []
  }
 ],
 "metadata": {
  "kernelspec": {
   "display_name": "Python 3",
   "language": "python",
   "name": "python3"
  },
  "language_info": {
   "codemirror_mode": {
    "name": "ipython",
    "version": 3
   },
   "file_extension": ".py",
   "mimetype": "text/x-python",
   "name": "python",
   "nbconvert_exporter": "python",
   "pygments_lexer": "ipython3",
   "version": "3.10.11"
  }
 },
 "nbformat": 4,
 "nbformat_minor": 2
}
