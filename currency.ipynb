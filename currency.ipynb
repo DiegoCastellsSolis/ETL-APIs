{
 "cells": [
  {
   "cell_type": "code",
   "execution_count": 2,
   "metadata": {},
   "outputs": [],
   "source": [
    "#pip install currencyapicom\n",
    "import pandas as pd\n",
    "import configparser\n",
    "import currencyapicom"
   ]
  },
  {
   "cell_type": "code",
   "execution_count": 3,
   "metadata": {},
   "outputs": [
    {
     "name": "stdout",
     "output_type": "stream",
     "text": [
      "AccuWeather API Key: cur_live_GuIIrMhsrnGMAsH16UO1KPaO6EABqHXZFu2l2pyF\n"
     ]
    }
   ],
   "source": [
    "# Crear un objeto ConfigParser\n",
    "config = configparser.ConfigParser()\n",
    "# Leer el archivo de configuración\n",
    "config.read('config.ini')\n",
    "# Obtener el token de AccuWeather\n",
    "CURRENCY_API_KEY = config['API_KEYS']['CURRENCY_API_KEY']"
   ]
  },
  {
   "cell_type": "code",
   "execution_count": 4,
   "metadata": {},
   "outputs": [],
   "source": [
    "client = currencyapicom.Client(CURRENCY_API_KEY)"
   ]
  },
  {
   "cell_type": "code",
   "execution_count": 6,
   "metadata": {},
   "outputs": [
    {
     "name": "stdout",
     "output_type": "stream",
     "text": [
      "{'meta': {'last_updated_at': '2022-01-01T23:59:59Z'}, 'data': {'AED': {'code': 'AED', 'value': 3.67267}, 'AFN': {'code': 'AFN', 'value': 103.6321}, 'ALL': {'code': 'ALL', 'value': 105.93177}, 'AMD': {'code': 'AMD', 'value': 479.01204}, 'AOA': {'code': 'AOA', 'value': 561.3327}, 'ARS': {'code': 'ARS', 'value': 102.68228}, 'AUD': {'code': 'AUD', 'value': 1.37532}, 'AWG': {'code': 'AWG', 'value': 1.78004}, 'AZN': {'code': 'AZN', 'value': 1.69304}, 'BBD': {'code': 'BBD', 'value': 1.99814}, 'BDT': {'code': 'BDT', 'value': 85.62223}, 'BGN': {'code': 'BGN', 'value': 1.71934}, 'BHD': {'code': 'BHD', 'value': 0.37701}, 'BIF': {'code': 'BIF', 'value': 1989.14937}, 'BMD': {'code': 'BMD', 'value': 1.00003}, 'BND': {'code': 'BND', 'value': 1.34862}, 'BOB': {'code': 'BOB', 'value': 6.83016}, 'BRL': {'code': 'BRL', 'value': 5.57043}, 'BSD': {'code': 'BSD', 'value': 1.00003}, 'BTC': {'code': 'BTC', 'value': 0.0216}, 'BTN': {'code': 'BTN', 'value': 74.31136}, 'BWP': {'code': 'BWP', 'value': 11.74793}, 'BYR': {'code': 'BYR', 'value': 3.00003}, 'CAD': {'code': 'CAD', 'value': 1.26249}, 'CDF': {'code': 'CDF', 'value': 1994.94245}, 'CHF': {'code': 'CHF', 'value': 0.91201}, 'CLP': {'code': 'CLP', 'value': 851.1244}, 'CNY': {'code': 'CNY', 'value': 6.36386}, 'COP': {'code': 'COP', 'value': 4065.44524}, 'CRC': {'code': 'CRC', 'value': 638.28509}, 'CUC': {'code': 'CUC', 'value': 24.00028}, 'CVE': {'code': 'CVE', 'value': 96.94277}, 'CZK': {'code': 'CZK', 'value': 21.83007}, 'DJF': {'code': 'DJF', 'value': 177.50259}, 'DKK': {'code': 'DKK', 'value': 6.53643}, 'DOP': {'code': 'DOP', 'value': 57.10077}, 'DZD': {'code': 'DZD', 'value': 138.12174}, 'EGP': {'code': 'EGP', 'value': 15.6603}, 'ERN': {'code': 'ERN', 'value': 15.00028}, 'ETB': {'code': 'ETB', 'value': 49.19465}, 'ETH': {'code': 'ETH', 'value': 0.00027}, 'EUR': {'code': 'EUR', 'value': 0.87943}, 'FJD': {'code': 'FJD', 'value': 2.11856}, 'GBP': {'code': 'GBP', 'value': 0.73931}, 'GEL': {'code': 'GEL', 'value': 3.06004}, 'GHS': {'code': 'GHS', 'value': 6.03016}, 'GIP': {'code': 'GIP', 'value': 0.74202}, 'GMD': {'code': 'GMD', 'value': 52.9008}, 'GNF': {'code': 'GNF', 'value': 9193.12119}, 'GTQ': {'code': 'GTQ', 'value': 7.70518}, 'GYD': {'code': 'GYD', 'value': 207.98258}, 'HKD': {'code': 'HKD', 'value': 7.79609}, 'HNL': {'code': 'HNL', 'value': 24.25392}, 'HRK': {'code': 'HRK', 'value': 6.6396}, 'HTG': {'code': 'HTG', 'value': 98.95277}, 'HUF': {'code': 'HUF', 'value': 323.81465}, 'IDR': {'code': 'IDR', 'value': 14250.40122}, 'ILS': {'code': 'ILS', 'value': 3.09675}, 'INR': {'code': 'INR', 'value': 74.46853}, 'IQD': {'code': 'IQD', 'value': 1458.53586}, 'IRR': {'code': 'IRR', 'value': 42001.17409}, 'ISK': {'code': 'ISK', 'value': 129.6418}, 'JMD': {'code': 'JMD', 'value': 152.75224}, 'JOD': {'code': 'JOD', 'value': 0.70701}, 'JPY': {'code': 'JPY', 'value': 115.11187}, 'KES': {'code': 'KES', 'value': 113.05283}, 'KGS': {'code': 'KGS', 'value': 84.80219}, 'KHR': {'code': 'KHR', 'value': 4064.10659}, 'KMF': {'code': 'KMF', 'value': 433.80524}, 'KPW': {'code': 'KPW', 'value': 130.00295}, 'KRW': {'code': 'KRW', 'value': 1185.02539}, 'KWD': {'code': 'KWD', 'value': 0.3021}, 'KYD': {'code': 'KYD', 'value': 0.82502}, 'KZT': {'code': 'KZT', 'value': 434.84148}, 'LAK': {'code': 'LAK', 'value': 11138.26228}, 'LBP': {'code': 'LBP', 'value': 1505.73102}, 'LKR': {'code': 'LKR', 'value': 202.75369}, 'LRD': {'code': 'LRD', 'value': 144.00301}, 'LSL': {'code': 'LSL', 'value': 15.94278}, 'LTC': {'code': 'LTC', 'value': 0.00685}, 'LYD': {'code': 'LYD', 'value': 4.58465}, 'MAD': {'code': 'MAD', 'value': 9.24883}, 'MDL': {'code': 'MDL', 'value': 17.70336}, 'MGA': {'code': 'MGA', 'value': 3937.08508}, 'MKD': {'code': 'MKD', 'value': 54.31073}, 'MMK': {'code': 'MMK', 'value': 1769.52306}, 'MNT': {'code': 'MNT', 'value': 2830.05053}, 'MOP': {'code': 'MOP', 'value': 8.03019}, 'MRO': {'code': 'MRO', 'value': 36.13106}, 'MUR': {'code': 'MUR', 'value': 43.45044}, 'MVR': {'code': 'MVR', 'value': 15.42032}, 'MWK': {'code': 'MWK', 'value': 806.81477}, 'MXN': {'code': 'MXN', 'value': 20.49896}, 'MYR': {'code': 'MYR', 'value': 4.16406}, 'MZN': {'code': 'MZN', 'value': 63.20096}, 'NAD': {'code': 'NAD', 'value': 15.95333}, 'NGN': {'code': 'NGN', 'value': 411.70902}, 'NIO': {'code': 'NIO', 'value': 35.31039}, 'NOK': {'code': 'NOK', 'value': 8.79303}, 'NPR': {'code': 'NPR', 'value': 118.93311}, 'NZD': {'code': 'NZD', 'value': 1.46192}, 'OMR': {'code': 'OMR', 'value': 0.38471}, 'PAB': {'code': 'PAB', 'value': 1.00003}, 'PEN': {'code': 'PEN', 'value': 3.98527}, 'PGK': {'code': 'PGK', 'value': 3.51194}, 'PHP': {'code': 'PHP', 'value': 50.99135}, 'PKR': {'code': 'PKR', 'value': 175.80267}, 'PLN': {'code': 'PLN', 'value': 4.03158}, 'PYG': {'code': 'PYG', 'value': 6857.12134}, 'QAR': {'code': 'QAR', 'value': 3.64158}, 'RON': {'code': 'RON', 'value': 4.34823}, 'RSD': {'code': 'RSD', 'value': 103.28223}, 'RUB': {'code': 'RUB', 'value': 74.74872}, 'RWF': {'code': 'RWF', 'value': 1024.72857}, 'SAR': {'code': 'SAR', 'value': 3.75389}, 'SBD': {'code': 'SBD', 'value': 7.90512}, 'SCR': {'code': 'SCR', 'value': 13.60715}, 'SDG': {'code': 'SDG', 'value': 436.2866}, 'SEK': {'code': 'SEK', 'value': 9.04196}, 'SGD': {'code': 'SGD', 'value': 1.34767}, 'SLL': {'code': 'SLL', 'value': 11140.15983}, 'SOS': {'code': 'SOS', 'value': 575.01646}, 'SRD': {'code': 'SRD', 'value': 19.53145}, 'STD': {'code': 'STD', 'value': 21.52052}, 'SVC': {'code': 'SVC', 'value': 8.74959}, 'SYP': {'code': 'SYP', 'value': 2511.03826}, 'SZL': {'code': 'SZL', 'value': 15.94871}, 'THB': {'code': 'THB', 'value': 33.23057}, 'TJS': {'code': 'TJS', 'value': 11.29919}, 'TMT': {'code': 'TMT', 'value': 3.49006}, 'TND': {'code': 'TND', 'value': 2.87016}, 'TRY': {'code': 'TRY', 'value': 13.30233}, 'TTD': {'code': 'TTD', 'value': 6.77262}, 'TWD': {'code': 'TWD', 'value': 27.68057}, 'TZS': {'code': 'TZS', 'value': 2301.06306}, 'UAH': {'code': 'UAH', 'value': 27.25063}, 'UGX': {'code': 'UGX', 'value': 3541.04475}, 'USD': {'code': 'USD', 'value': 1}, 'UZS': {'code': 'UZS', 'value': 10816.18508}, 'VES': {'code': 'VES', 'value': 4.59011}, 'VND': {'code': 'VND', 'value': 22825.35813}, 'VUV': {'code': 'VUV', 'value': 111.26311}, 'XAF': {'code': 'XAF', 'value': 576.67892}, 'XOF': {'code': 'XOF', 'value': 576.50899}, 'XPF': {'code': 'XPF', 'value': 104.63208}, 'XRP': {'code': 'XRP', 'value': 1.2079}, 'YER': {'code': 'YER', 'value': 249.95497}, 'ZAR': {'code': 'ZAR', 'value': 15.92997}, 'ZMW': {'code': 'ZMW', 'value': 16.63533}}}\n"
     ]
    }
   ],
   "source": [
    "result = client.historical('2022-01-01')\n",
    "print(result)"
   ]
  },
  {
   "cell_type": "code",
   "execution_count": 9,
   "metadata": {},
   "outputs": [],
   "source": [
    "# Convert the 'data' dictionary into a DataFrame for easier handling\n",
    "df = pd.DataFrame(result) # Transpose to have currencies as rows"
   ]
  },
  {
   "cell_type": "code",
   "execution_count": null,
   "metadata": {},
   "outputs": [],
   "source": [
    "# Eliminar la fila con 'last_updated_at' en la columna 'meta'\n",
    "df = df[df['meta'] != 'last_updated_at']\n",
    "\n",
    "# Crear la columna 'money' usando la columna 'meta'\n",
    "df['money'] = df['meta']\n",
    "\n",
    "# Crear la columna 'last_updated_at' con el valor constante en todas las filas\n",
    "df['last_updated_at'] = '2022-01-01T23:59:59Z'\n",
    "\n",
    "# Extraer el valor del diccionario en la columna 'data' y colocarlo en la columna 'value'\n",
    "df['value'] = df['data'].apply(lambda x: x['value'] if pd.notnull(x) else None)\n",
    "\n",
    "# Eliminar las columnas que ya no son necesarias ('data' y 'meta')\n",
    "df = df.drop(columns=['data', 'meta'])\n",
    "df.head()"
   ]
  },
  {
   "cell_type": "code",
   "execution_count": null,
   "metadata": {},
   "outputs": [],
   "source": [
    "# Eliminar la primera fila (donde 'money' es 'last_updated_at')\n",
    "df = df[df['money'] != 'last_updated_at']\n",
    "\n",
    "# Rellenar la columna 'last_updated_at' con el valor constante en todas las filas\n",
    "df['last_updated_at'] = '2022-01-01T23:59:59Z'\n",
    "\n",
    "# Reordenar las columnas si es necesario (esto es opcional, ya que 'money' ya es la primera columna)\n",
    "df = df[['money', 'last_updated_at', 'value']]\n",
    "\n",
    "# Mostrar el DataFrame resultante\n",
    "print(df)"
   ]
  },
  {
   "cell_type": "code",
   "execution_count": null,
   "metadata": {},
   "outputs": [],
   "source": []
  },
  {
   "cell_type": "code",
   "execution_count": null,
   "metadata": {},
   "outputs": [],
   "source": []
  },
  {
   "cell_type": "code",
   "execution_count": null,
   "metadata": {},
   "outputs": [],
   "source": []
  }
 ],
 "metadata": {
  "kernelspec": {
   "display_name": "Python 3",
   "language": "python",
   "name": "python3"
  },
  "language_info": {
   "codemirror_mode": {
    "name": "ipython",
    "version": 3
   },
   "file_extension": ".py",
   "mimetype": "text/x-python",
   "name": "python",
   "nbconvert_exporter": "python",
   "pygments_lexer": "ipython3",
   "version": "3.10.11"
  }
 },
 "nbformat": 4,
 "nbformat_minor": 2
}
