{
 "cells": [
  {
   "cell_type": "code",
   "execution_count": 5,
   "metadata": {},
   "outputs": [],
   "source": [
    "import configparser\n",
    "import requests"
   ]
  },
  {
   "cell_type": "code",
   "execution_count": 3,
   "metadata": {},
   "outputs": [
    {
     "data": {
      "text/plain": [
       "['config.ini']"
      ]
     },
     "execution_count": 3,
     "metadata": {},
     "output_type": "execute_result"
    }
   ],
   "source": [
    "# Crear un objeto ConfigParser\n",
    "config = configparser.ConfigParser()\n",
    "\n",
    "# Leer el archivo de configuración\n",
    "config.read('config.ini')"
   ]
  },
  {
   "cell_type": "code",
   "execution_count": 4,
   "metadata": {},
   "outputs": [
    {
     "name": "stdout",
     "output_type": "stream",
     "text": [
      "AccuWeather API Key: YBXXFGPHlpQQEwaBRY7W5UNb7ZJNGTQy\n"
     ]
    }
   ],
   "source": [
    "# Obtener el token de AccuWeather\n",
    "accuweather_api_key = config['API_KEYS']['ACCUWEATHER_API_KEY']\n",
    "print(f'AccuWeather API Key: {accuweather_api_key}')"
   ]
  },
  {
   "cell_type": "code",
   "execution_count": 7,
   "metadata": {},
   "outputs": [
    {
     "name": "stdout",
     "output_type": "stream",
     "text": [
      "401\n"
     ]
    }
   ],
   "source": [
    "location_name = 'ES'\n",
    "url = f'https://dataservice.accuweather.com/locations/v1/cities/search?apikey={accuweather_api_key}&q={location_name}'\n",
    "\n",
    "# Hacer la solicitud a la API\n",
    "response = requests.get(url)\n",
    "print(response.status_code)"
   ]
  },
  {
   "cell_type": "code",
   "execution_count": 6,
   "metadata": {},
   "outputs": [
    {
     "name": "stdout",
     "output_type": "stream",
     "text": [
      "Error en la solicitud: 401\n"
     ]
    }
   ],
   "source": [
    "location_name = 'Murcia'\n",
    "url = f'https://dataservice.accuweather.com/locations/v1/cities/search?apikey={accuweather_api_key}&q={location_name}'\n",
    "\n",
    "# Hacer la solicitud a la API\n",
    "response = requests.get(url)\n",
    "\n",
    "# Verificar el código de estado de la respuesta\n",
    "if response.status_code == 200:\n",
    "    # Convertir la respuesta JSON a un diccionario de Python\n",
    "    data = response.json()\n",
    "    \n",
    "    # Comprobar si hay resultados\n",
    "    if data:\n",
    "        # Obtener el locationKey de la primera coincidencia\n",
    "        location_key = data[0]['Key']\n",
    "        print(f'Location Key de Murcia: {location_key}')\n",
    "    else:\n",
    "        print('No se encontraron resultados para Murcia.')\n",
    "else:\n",
    "    print(f'Error en la solicitud: {response.status_code}')"
   ]
  },
  {
   "cell_type": "code",
   "execution_count": null,
   "metadata": {},
   "outputs": [],
   "source": []
  }
 ],
 "metadata": {
  "kernelspec": {
   "display_name": "Python 3",
   "language": "python",
   "name": "python3"
  },
  "language_info": {
   "codemirror_mode": {
    "name": "ipython",
    "version": 3
   },
   "file_extension": ".py",
   "mimetype": "text/x-python",
   "name": "python",
   "nbconvert_exporter": "python",
   "pygments_lexer": "ipython3",
   "version": "3.12.0"
  }
 },
 "nbformat": 4,
 "nbformat_minor": 2
}
